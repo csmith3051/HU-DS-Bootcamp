{
  "nbformat": 4,
  "nbformat_minor": 0,
  "metadata": {
    "colab": {
      "provenance": []
    },
    "kernelspec": {
      "name": "python3",
      "display_name": "Python 3"
    },
    "language_info": {
      "name": "python"
    }
  },
  "cells": [
    {
      "cell_type": "code",
      "execution_count": null,
      "metadata": {
        "id": "cekChtY6T3vk"
      },
      "outputs": [],
      "source": [
        "if 5 < 4:\n",
        "    print(\"1st command if organ\")\n",
        "    print(\"2nd cojhvjluyluygyu\")\n",
        "\n",
        "\n",
        "\n"
      ]
    },
    {
      "cell_type": "code",
      "source": [
        "x = -5\n",
        "y = 10\n",
        "if x > 0 or y > 0:\n",
        "  print (\"Both x and y are positive\")\n",
        "  print (\"Atleast one condition failed\")\n"
      ],
      "metadata": {
        "colab": {
          "base_uri": "https://localhost:8080/"
        },
        "id": "rIJudDyKUQAM",
        "outputId": "fdff7d2a-196d-4cf8-846b-9f8b3c65a678"
      },
      "execution_count": null,
      "outputs": [
        {
          "output_type": "stream",
          "name": "stdout",
          "text": [
            "Both x and y are positive\n",
            "Atleast one condition failed\n"
          ]
        }
      ]
    },
    {
      "cell_type": "code",
      "source": [
        "if 7 != 10:\n",
        "    print(\"The above statement is true\")\n",
        "    print(\"This is not related to the if statement\")\n"
      ],
      "metadata": {
        "colab": {
          "base_uri": "https://localhost:8080/"
        },
        "id": "UvjLrsfo-xg4",
        "outputId": "8fab3412-b208-42a6-9117-0e150fca443f"
      },
      "execution_count": null,
      "outputs": [
        {
          "output_type": "stream",
          "name": "stdout",
          "text": [
            "The above statement is true\n",
            "This is not related to the if statement\n"
          ]
        }
      ]
    },
    {
      "cell_type": "code",
      "source": [
        "grade = 70\n",
        "\n",
        "if grade > 70:\n",
        "    print(\"Congrats, you passed the class\")\n",
        "\n",
        "if grade <= 70:\n",
        "    print(\"Condolences, you did not pass the class\")\n"
      ],
      "metadata": {
        "colab": {
          "base_uri": "https://localhost:8080/"
        },
        "id": "cm8MRm8c_Ah1",
        "outputId": "867218c9-004f-4c61-b12d-ee5a19ac285e"
      },
      "execution_count": null,
      "outputs": [
        {
          "output_type": "stream",
          "name": "stdout",
          "text": [
            "Condolences, you did not pass the class\n"
          ]
        }
      ]
    },
    {
      "cell_type": "code",
      "source": [
        "if 5 > 4:\n",
        "    print(\"The boolean expression is true\")\n",
        "else:\n",
        "    print(\"The boolean expression is false\")\n"
      ],
      "metadata": {
        "colab": {
          "base_uri": "https://localhost:8080/"
        },
        "id": "KcErkDdtBM3H",
        "outputId": "d5d05378-1743-46d8-a2b8-4293354b3dfc"
      },
      "execution_count": null,
      "outputs": [
        {
          "output_type": "stream",
          "name": "stdout",
          "text": [
            "The boolean expression is true\n"
          ]
        }
      ]
    },
    {
      "cell_type": "code",
      "source": [
        "my_bool = True\n",
        "\n",
        "if my_bool:\n",
        "    print(\"The value of my_bool is true\")\n",
        "else:\n",
        "    print(\"The value of my_bool is false\")\n"
      ],
      "metadata": {
        "colab": {
          "base_uri": "https://localhost:8080/"
        },
        "id": "y9vSIep4BgMV",
        "outputId": "148244ca-9693-4da4-9731-4b246d9e89b1"
      },
      "execution_count": null,
      "outputs": [
        {
          "output_type": "stream",
          "name": "stdout",
          "text": [
            "The value of my_bool is true\n"
          ]
        }
      ]
    },
    {
      "cell_type": "code",
      "source": [
        "num = 4\n",
        "\n",
        "if num % 2 == 0:\n",
        "    print(str(num) + \" is an even number\")\n",
        "else:\n",
        "    print(str(num) + \" is an odd number\")\n"
      ],
      "metadata": {
        "colab": {
          "base_uri": "https://localhost:8080/"
        },
        "id": "q-wMZNW-Bpt-",
        "outputId": "0f6021a0-5459-477e-a7a4-215acd9fd9f1"
      },
      "execution_count": null,
      "outputs": [
        {
          "output_type": "stream",
          "name": "stdout",
          "text": [
            "4 is an even number\n"
          ]
        }
      ]
    },
    {
      "cell_type": "code",
      "source": [
        "a = 500\n",
        "b = \"July\"\n",
        "\n",
        "if a < 10:\n",
        "    print(str(a) + \" is less than 10\")\n",
        "elif a < 20:\n",
        "    print(str(a) + \" is less than 20\")\n",
        "elif a < 30:\n",
        "    print(str(a) + \" less than 30\")\n",
        "else:\n",
        "    print(str(a) + \" is greater than 30 \"+ b)\n",
        "    print(b)\n"
      ],
      "metadata": {
        "colab": {
          "base_uri": "https://localhost:8080/"
        },
        "id": "uMM_t49-C6yw",
        "outputId": "cbcc1383-7c0d-406a-9f79-3897187ac9a7"
      },
      "execution_count": null,
      "outputs": [
        {
          "output_type": "stream",
          "name": "stdout",
          "text": [
            "500 is greater than 30 July\n",
            "July\n"
          ]
        }
      ]
    },
    {
      "cell_type": "code",
      "source": [
        "# create a list of Black artists\n",
        "black_artists = [\"Jean-Michel Basquiat\", \"Romare Bearden\",\"Kara Walker\", \"Lorna Simpson\", \"Kerry James Marshall\"]\n",
        "\n",
        "# check for 'Kehinde Wiley'\n",
        "if 'Kehinde Wiley' in black_artists:\n",
        "  print('Kehinde Wiley is on the list')\n",
        "else:\n",
        "  print('Kehinde Wiley is not on the list')\n",
        "\n",
        "\n"
      ],
      "metadata": {
        "colab": {
          "base_uri": "https://localhost:8080/"
        },
        "id": "u8ngGfI-Hdmc",
        "outputId": "c74f7893-c515-461b-db01-29ef6a00c469"
      },
      "execution_count": null,
      "outputs": [
        {
          "output_type": "stream",
          "name": "stdout",
          "text": [
            "Kehinde Wiley is not on the list\n"
          ]
        }
      ]
    },
    {
      "cell_type": "code",
      "source": [
        "name = input(\"What is your name?\")\n",
        "print(name)"
      ],
      "metadata": {
        "colab": {
          "base_uri": "https://localhost:8080/"
        },
        "id": "OpJTix0FL5IW",
        "outputId": "6c3a6ced-b0de-4752-90ae-486680c69d45"
      },
      "execution_count": null,
      "outputs": [
        {
          "output_type": "stream",
          "name": "stdout",
          "text": [
            "What is your name?Amy \n",
            "Amy \n"
          ]
        }
      ]
    }
  ]
}