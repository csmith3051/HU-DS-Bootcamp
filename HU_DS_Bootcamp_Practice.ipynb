{
  "nbformat": 4,
  "nbformat_minor": 0,
  "metadata": {
    "colab": {
      "provenance": [],
      "authorship_tag": "ABX9TyPEGsVl0JQEc9nkZxDD9BvL",
      "include_colab_link": true
    },
    "kernelspec": {
      "name": "python3",
      "display_name": "Python 3"
    },
    "language_info": {
      "name": "python"
    }
  },
  "cells": [
    {
      "cell_type": "markdown",
      "metadata": {
        "id": "view-in-github",
        "colab_type": "text"
      },
      "source": [
        "<a href=\"https://colab.research.google.com/github/csmith3051/HU-DS-Bootcamp/blob/main/HU_DS_Bootcamp_Practice.ipynb\" target=\"_parent\"><img src=\"https://colab.research.google.com/assets/colab-badge.svg\" alt=\"Open In Colab\"/></a>"
      ]
    },
    {
      "cell_type": "code",
      "execution_count": null,
      "metadata": {
        "colab": {
          "base_uri": "https://localhost:8080/"
        },
        "id": "_PtvKZ1zYK2e",
        "outputId": "0286a368-b0c8-4b62-daac-5a3c6d56bfd6"
      },
      "outputs": [
        {
          "output_type": "stream",
          "name": "stdout",
          "text": [
            "Even\n",
            "Odd\n",
            "Even\n",
            "Odd\n",
            "Even\n",
            "Odd\n",
            "Even\n",
            "Odd\n",
            "Even\n",
            "Odd\n"
          ]
        }
      ],
      "source": [
        "for x in range(0, 10):\n",
        "    if x % 2 == 0:\n",
        "        print(\"Even\")\n",
        "    else:\n",
        "        print(\"Odd\")\n"
      ]
    },
    {
      "cell_type": "code",
      "source": [
        "for x in range(0, 10):\n",
        "    if x % 3 == 0:\n",
        "        print(\"Odd\")\n",
        "    else:\n",
        "        print(\"Even\")"
      ],
      "metadata": {
        "colab": {
          "base_uri": "https://localhost:8080/"
        },
        "id": "2wa9Ne2EZPAf",
        "outputId": "46d37978-c84a-49d4-f49a-5d2d4be68125"
      },
      "execution_count": null,
      "outputs": [
        {
          "output_type": "stream",
          "name": "stdout",
          "text": [
            "Odd\n",
            "Even\n",
            "Even\n",
            "Odd\n",
            "Even\n",
            "Even\n",
            "Odd\n",
            "Even\n",
            "Even\n",
            "Odd\n"
          ]
        }
      ]
    },
    {
      "cell_type": "code",
      "source": [
        "exp = 4\n",
        "base = 2\n",
        "result = 1\n",
        "for x in range(exp):\n",
        "    result = base * result\n",
        "\n",
        "print(result)\n"
      ],
      "metadata": {
        "colab": {
          "base_uri": "https://localhost:8080/"
        },
        "id": "s-9V6DobalsP",
        "outputId": "0ee7b92e-b8f3-4e7b-fdd7-6e116f3ece66"
      },
      "execution_count": null,
      "outputs": [
        {
          "output_type": "stream",
          "name": "stdout",
          "text": [
            "16\n"
          ]
        }
      ]
    },
    {
      "cell_type": "code",
      "source": [
        "exp = 4\n",
        "base = 2\n",
        "result = 2\n",
        "for x in range(exp):\n",
        "    result = base * result\n",
        "\n",
        "print(result)\n"
      ],
      "metadata": {
        "colab": {
          "base_uri": "https://localhost:8080/"
        },
        "id": "ay_i-8nZa6es",
        "outputId": "8e69aab2-df9e-48f7-bca0-84e965de5aa6"
      },
      "execution_count": null,
      "outputs": [
        {
          "output_type": "stream",
          "name": "stdout",
          "text": [
            "32\n"
          ]
        }
      ]
    },
    {
      "cell_type": "code",
      "source": [
        "counter = 0\n",
        "while(counter < 10):\n",
        "    print(counter)\n",
        "    counter = counter + 1\n",
        "print('while loop ended')\n"
      ],
      "metadata": {
        "colab": {
          "base_uri": "https://localhost:8080/"
        },
        "id": "RjBcccOHcfq6",
        "outputId": "e5cb1994-65f9-4d73-e00a-b836cfbb5f55"
      },
      "execution_count": null,
      "outputs": [
        {
          "output_type": "stream",
          "name": "stdout",
          "text": [
            "0\n",
            "1\n",
            "2\n",
            "3\n",
            "4\n",
            "5\n",
            "6\n",
            "7\n",
            "8\n",
            "9\n",
            "while loop ended\n"
          ]
        }
      ]
    },
    {
      "cell_type": "code",
      "source": [
        "while True:\n",
        "    print('Enter numbers to sum, enter q to quit')\n",
        "    inp = input(' > ')\n",
        "    if inp != 'q':\n",
        "        inp = int(inp)\n",
        "        result = result + inp\n",
        "    else:\n",
        "        print(result)\n",
        "        break\n"
      ],
      "metadata": {
        "colab": {
          "base_uri": "https://localhost:8080/"
        },
        "id": "bkC2kbYYcvqE",
        "outputId": "1217a878-3bdb-4634-cca1-69365bf2efe6"
      },
      "execution_count": null,
      "outputs": [
        {
          "output_type": "stream",
          "name": "stdout",
          "text": [
            "Enter numbers to sum, enter q to quit\n",
            " > q\n",
            "81\n"
          ]
        }
      ]
    },
    {
      "cell_type": "code",
      "source": [],
      "metadata": {
        "id": "ENc69pCvdVtL"
      },
      "execution_count": null,
      "outputs": []
    },
    {
      "cell_type": "code",
      "source": [
        "while True:\n",
        "    print('Enter numbers to sum, enter q to quit')\n",
        "    inp = input('> ')\n",
        "    if inp != 'q':\n",
        "        inp = int(inp)\n",
        "        result = result + inp\n",
        "    else:\n",
        "        print(result)\n",
        "        break\n"
      ],
      "metadata": {
        "colab": {
          "base_uri": "https://localhost:8080/",
          "height": 382
        },
        "id": "swxUp8cdh4c-",
        "outputId": "916d1272-3a08-4e5a-b166-b8182dfa00d0"
      },
      "execution_count": null,
      "outputs": [
        {
          "output_type": "stream",
          "name": "stdout",
          "text": [
            "Enter numbers to sum, enter q to quit\n"
          ]
        },
        {
          "output_type": "error",
          "ename": "KeyboardInterrupt",
          "evalue": "Interrupted by user",
          "traceback": [
            "\u001b[0;31m---------------------------------------------------------------------------\u001b[0m",
            "\u001b[0;31mKeyboardInterrupt\u001b[0m                         Traceback (most recent call last)",
            "\u001b[0;32m<ipython-input-12-e39de7d14dad>\u001b[0m in \u001b[0;36m<cell line: 0>\u001b[0;34m()\u001b[0m\n\u001b[1;32m      1\u001b[0m \u001b[0;32mwhile\u001b[0m \u001b[0;32mTrue\u001b[0m\u001b[0;34m:\u001b[0m\u001b[0;34m\u001b[0m\u001b[0;34m\u001b[0m\u001b[0m\n\u001b[1;32m      2\u001b[0m     \u001b[0mprint\u001b[0m\u001b[0;34m(\u001b[0m\u001b[0;34m'Enter numbers to sum, enter q to quit'\u001b[0m\u001b[0;34m)\u001b[0m\u001b[0;34m\u001b[0m\u001b[0;34m\u001b[0m\u001b[0m\n\u001b[0;32m----> 3\u001b[0;31m     \u001b[0minp\u001b[0m \u001b[0;34m=\u001b[0m \u001b[0minput\u001b[0m\u001b[0;34m(\u001b[0m\u001b[0;34m'> '\u001b[0m\u001b[0;34m)\u001b[0m\u001b[0;34m\u001b[0m\u001b[0;34m\u001b[0m\u001b[0m\n\u001b[0m\u001b[1;32m      4\u001b[0m     \u001b[0;32mif\u001b[0m \u001b[0minp\u001b[0m \u001b[0;34m!=\u001b[0m \u001b[0;34m'q'\u001b[0m\u001b[0;34m:\u001b[0m\u001b[0;34m\u001b[0m\u001b[0;34m\u001b[0m\u001b[0m\n\u001b[1;32m      5\u001b[0m         \u001b[0minp\u001b[0m \u001b[0;34m=\u001b[0m \u001b[0mint\u001b[0m\u001b[0;34m(\u001b[0m\u001b[0minp\u001b[0m\u001b[0;34m)\u001b[0m\u001b[0;34m\u001b[0m\u001b[0;34m\u001b[0m\u001b[0m\n",
            "\u001b[0;32m/usr/local/lib/python3.11/dist-packages/ipykernel/kernelbase.py\u001b[0m in \u001b[0;36mraw_input\u001b[0;34m(self, prompt)\u001b[0m\n\u001b[1;32m   1175\u001b[0m                 \u001b[0;34m\"raw_input was called, but this frontend does not support input requests.\"\u001b[0m\u001b[0;34m\u001b[0m\u001b[0;34m\u001b[0m\u001b[0m\n\u001b[1;32m   1176\u001b[0m             )\n\u001b[0;32m-> 1177\u001b[0;31m         return self._input_request(\n\u001b[0m\u001b[1;32m   1178\u001b[0m             \u001b[0mstr\u001b[0m\u001b[0;34m(\u001b[0m\u001b[0mprompt\u001b[0m\u001b[0;34m)\u001b[0m\u001b[0;34m,\u001b[0m\u001b[0;34m\u001b[0m\u001b[0;34m\u001b[0m\u001b[0m\n\u001b[1;32m   1179\u001b[0m             \u001b[0mself\u001b[0m\u001b[0;34m.\u001b[0m\u001b[0m_parent_ident\u001b[0m\u001b[0;34m[\u001b[0m\u001b[0;34m\"shell\"\u001b[0m\u001b[0;34m]\u001b[0m\u001b[0;34m,\u001b[0m\u001b[0;34m\u001b[0m\u001b[0;34m\u001b[0m\u001b[0m\n",
            "\u001b[0;32m/usr/local/lib/python3.11/dist-packages/ipykernel/kernelbase.py\u001b[0m in \u001b[0;36m_input_request\u001b[0;34m(self, prompt, ident, parent, password)\u001b[0m\n\u001b[1;32m   1217\u001b[0m             \u001b[0;32mexcept\u001b[0m \u001b[0mKeyboardInterrupt\u001b[0m\u001b[0;34m:\u001b[0m\u001b[0;34m\u001b[0m\u001b[0;34m\u001b[0m\u001b[0m\n\u001b[1;32m   1218\u001b[0m                 \u001b[0;31m# re-raise KeyboardInterrupt, to truncate traceback\u001b[0m\u001b[0;34m\u001b[0m\u001b[0;34m\u001b[0m\u001b[0m\n\u001b[0;32m-> 1219\u001b[0;31m                 \u001b[0;32mraise\u001b[0m \u001b[0mKeyboardInterrupt\u001b[0m\u001b[0;34m(\u001b[0m\u001b[0;34m\"Interrupted by user\"\u001b[0m\u001b[0;34m)\u001b[0m \u001b[0;32mfrom\u001b[0m \u001b[0;32mNone\u001b[0m\u001b[0;34m\u001b[0m\u001b[0;34m\u001b[0m\u001b[0m\n\u001b[0m\u001b[1;32m   1220\u001b[0m             \u001b[0;32mexcept\u001b[0m \u001b[0mException\u001b[0m\u001b[0;34m:\u001b[0m\u001b[0;34m\u001b[0m\u001b[0;34m\u001b[0m\u001b[0m\n\u001b[1;32m   1221\u001b[0m                 \u001b[0mself\u001b[0m\u001b[0;34m.\u001b[0m\u001b[0mlog\u001b[0m\u001b[0;34m.\u001b[0m\u001b[0mwarning\u001b[0m\u001b[0;34m(\u001b[0m\u001b[0;34m\"Invalid Message:\"\u001b[0m\u001b[0;34m,\u001b[0m \u001b[0mexc_info\u001b[0m\u001b[0;34m=\u001b[0m\u001b[0;32mTrue\u001b[0m\u001b[0;34m)\u001b[0m\u001b[0;34m\u001b[0m\u001b[0;34m\u001b[0m\u001b[0m\n",
            "\u001b[0;31mKeyboardInterrupt\u001b[0m: Interrupted by user"
          ]
        }
      ]
    },
    {
      "cell_type": "code",
      "source": [
        "for in range(0,8)\n",
        "for col in range(8)\n",
        "if (row + col) % == 0\n",
        "print('X', end='')\n",
        "else\n",
        "  print('O', end='')\n",
        "  print()"
      ],
      "metadata": {
        "colab": {
          "base_uri": "https://localhost:8080/",
          "height": 108
        },
        "id": "0njMMmSth_1s",
        "outputId": "3e3869ea-3c56-49c5-d658-faee088a1a36"
      },
      "execution_count": null,
      "outputs": [
        {
          "output_type": "error",
          "ename": "SyntaxError",
          "evalue": "invalid syntax (<ipython-input-17-46d56365e63a>, line 1)",
          "traceback": [
            "\u001b[0;36m  File \u001b[0;32m\"<ipython-input-17-46d56365e63a>\"\u001b[0;36m, line \u001b[0;32m1\u001b[0m\n\u001b[0;31m    for in range(0,8)\u001b[0m\n\u001b[0m        ^\u001b[0m\n\u001b[0;31mSyntaxError\u001b[0m\u001b[0;31m:\u001b[0m invalid syntax\n"
          ]
        }
      ]
    },
    {
      "cell_type": "code",
      "source": [
        "for i in range(8):\n",
        "    if i % 2 == 0:\n",
        "        print(\"XOXOXOXO\")\n",
        "    else:\n",
        "        print(\"OXOXOXOX\")"
      ],
      "metadata": {
        "colab": {
          "base_uri": "https://localhost:8080/"
        },
        "id": "Z58H6DOOSbAo",
        "outputId": "3670c277-b437-407d-8ffc-581fd48e5e1b"
      },
      "execution_count": null,
      "outputs": [
        {
          "output_type": "stream",
          "name": "stdout",
          "text": [
            "XOXOXOXO\n",
            "OXOXOXOX\n",
            "XOXOXOXO\n",
            "OXOXOXOX\n",
            "XOXOXOXO\n",
            "OXOXOXOX\n",
            "XOXOXOXO\n",
            "OXOXOXOX\n"
          ]
        }
      ]
    },
    {
      "cell_type": "code",
      "source": [
        "for i in range(8):\n",
        "  for j in range(8):\n",
        "    if i % 2 == 0:\n",
        "      if j % 2 == 0:\n",
        "        print('X', end='')\n",
        "      else:\n",
        "        print('0', end='')\n",
        "    else:\n",
        "        if j % 2 == 0:\n",
        "            print('0', end='')\n",
        "        else:\n",
        "            print('X', end='')\n",
        "    print()"
      ],
      "metadata": {
        "colab": {
          "base_uri": "https://localhost:8080/"
        },
        "id": "lS7S-XkybR0M",
        "outputId": "a9950176-f7bc-458f-f81a-fccc22f331d5"
      },
      "execution_count": null,
      "outputs": [
        {
          "output_type": "stream",
          "name": "stdout",
          "text": [
            "X\n",
            "0\n",
            "X\n",
            "0\n",
            "X\n",
            "0\n",
            "X\n",
            "0\n",
            "0\n",
            "X\n",
            "0\n",
            "X\n",
            "0\n",
            "X\n",
            "0\n",
            "X\n",
            "X\n",
            "0\n",
            "X\n",
            "0\n",
            "X\n",
            "0\n",
            "X\n",
            "0\n",
            "0\n",
            "X\n",
            "0\n",
            "X\n",
            "0\n",
            "X\n",
            "0\n",
            "X\n",
            "X\n",
            "0\n",
            "X\n",
            "0\n",
            "X\n",
            "0\n",
            "X\n",
            "0\n",
            "0\n",
            "X\n",
            "0\n",
            "X\n",
            "0\n",
            "X\n",
            "0\n",
            "X\n",
            "X\n",
            "0\n",
            "X\n",
            "0\n",
            "X\n",
            "0\n",
            "X\n",
            "0\n",
            "0\n",
            "X\n",
            "0\n",
            "X\n",
            "0\n",
            "X\n",
            "0\n",
            "X\n"
          ]
        }
      ]
    },
    {
      "cell_type": "code",
      "source": [
        "for i in range(8):\n",
        "    for j in range(8):\n",
        "        if i % 2 == 0:\n",
        "            if j % 2 == 0:\n",
        "                print('X', end='')\n",
        "            else:\n",
        "                print('O', end='')\n",
        "        else:\n",
        "            if j % 2 == 0:\n",
        "                print('O', end='')\n",
        "            else:\n",
        "                print('X', end='')\n",
        "    print()  # Move to the next line after each row\n"
      ],
      "metadata": {
        "id": "pEzPuSkseH6Z",
        "outputId": "4f4ee576-03b5-4bf7-8eeb-9e5b68e64914",
        "colab": {
          "base_uri": "https://localhost:8080/"
        }
      },
      "execution_count": null,
      "outputs": [
        {
          "output_type": "stream",
          "name": "stdout",
          "text": [
            "XOXOXOXO\n",
            "OXOXOXOX\n",
            "XOXOXOXO\n",
            "OXOXOXOX\n",
            "XOXOXOXO\n",
            "OXOXOXOX\n",
            "XOXOXOXO\n",
            "OXOXOXOX\n"
          ]
        }
      ]
    }
  ]
}