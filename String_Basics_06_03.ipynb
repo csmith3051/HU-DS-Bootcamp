{
  "nbformat": 4,
  "nbformat_minor": 0,
  "metadata": {
    "colab": {
      "provenance": [],
      "include_colab_link": true
    },
    "kernelspec": {
      "name": "python3",
      "display_name": "Python 3"
    },
    "language_info": {
      "name": "python"
    }
  },
  "cells": [
    {
      "cell_type": "markdown",
      "metadata": {
        "id": "view-in-github",
        "colab_type": "text"
      },
      "source": [
        "<a href=\"https://colab.research.google.com/github/csmith3051/HU-DS-Bootcamp/blob/main/String_Basics_06_03.ipynb\" target=\"_parent\"><img src=\"https://colab.research.google.com/assets/colab-badge.svg\" alt=\"Open In Colab\"/></a>"
      ]
    },
    {
      "cell_type": "code",
      "source": [
        "print(\"This program will check to see if two values are the same.\")\n",
        "string1 = input(\"Enter a name: \")\n",
        "string2 = input(\"Enter another name: \")\n",
        "\n",
        "if string1 == string2:\n",
        "    print(\"They are the same!\")\n",
        "else:\n",
        "    print(\"They are not the same.\")\n"
      ],
      "metadata": {
        "colab": {
          "base_uri": "https://localhost:8080/"
        },
        "id": "ECS6xfdINh2M",
        "outputId": "6e98723c-1759-481d-be52-2f343a72d812"
      },
      "execution_count": 1,
      "outputs": [
        {
          "output_type": "stream",
          "name": "stdout",
          "text": [
            "This program will check to see if two values are the same.\n",
            "Enter a name: Corinne\n",
            "Enter another name: Carla\n",
            "They are not the same.\n"
          ]
        }
      ]
    },
    {
      "cell_type": "code",
      "source": [
        "\n",
        "string11 = \"It's Thursday!\"\n",
        "string12 = \"It's Thursday!\"\n",
        "print(string11 is string12)\n"
      ],
      "metadata": {
        "colab": {
          "base_uri": "https://localhost:8080/"
        },
        "id": "GZ7WxBArSYdP",
        "outputId": "4a701006-8b26-4acc-fbb0-023668714c4c"
      },
      "execution_count": 3,
      "outputs": [
        {
          "output_type": "stream",
          "name": "stdout",
          "text": [
            "False\n"
          ]
        }
      ]
    },
    {
      "cell_type": "code",
      "execution_count": 5,
      "metadata": {
        "colab": {
          "base_uri": "https://localhost:8080/"
        },
        "id": "pBjdRBDuU_2O",
        "outputId": "a489edb6-8a1e-43bf-e121-87b1f1424bdf"
      },
      "outputs": [
        {
          "output_type": "stream",
          "name": "stdout",
          "text": [
            "17\n"
          ]
        }
      ],
      "source": [
        "welcome = \"Hello Black World\"\n",
        "length = len(welcome)\n",
        "print(length)\n"
      ]
    },
    {
      "cell_type": "code",
      "source": [
        "my_string = \"Hello, Class!\"\n",
        "character = my_string[5]\n",
        "print(character)\n"
      ],
      "metadata": {
        "id": "FCpaBYt2VTte",
        "colab": {
          "base_uri": "https://localhost:8080/"
        },
        "outputId": "e52ca922-9425-4e8f-8038-0fb703864bde"
      },
      "execution_count": 9,
      "outputs": [
        {
          "output_type": "stream",
          "name": "stdout",
          "text": [
            ",\n"
          ]
        }
      ]
    },
    {
      "cell_type": "code",
      "source": [
        "my_string = \"House\"\n",
        "#my_string[0] = \"M\"\n",
        "print(my_string)\n",
        "\n",
        "my_string = \"House\"\n",
        "my_string = \"Home\"\n",
        "print(my_string)\n",
        "\n"
      ],
      "metadata": {
        "id": "OZWuFoTSVgGJ",
        "colab": {
          "base_uri": "https://localhost:8080/"
        },
        "outputId": "eee79032-efea-4a36-a8f6-8fba65e48be3"
      },
      "execution_count": 10,
      "outputs": [
        {
          "output_type": "stream",
          "name": "stdout",
          "text": [
            "House\n",
            "Home\n"
          ]
        }
      ]
    },
    {
      "cell_type": "code",
      "source": [
        "my_string = \"The brown dog jumps over the lazy fox.\"\n",
        "\n",
        "print(\"jumps\" in my_string)\n"
      ],
      "metadata": {
        "id": "cHp10EvqWhhO",
        "colab": {
          "base_uri": "https://localhost:8080/"
        },
        "outputId": "8f6f98b4-bf62-4923-f3c0-19862382d850"
      },
      "execution_count": 11,
      "outputs": [
        {
          "output_type": "stream",
          "name": "stdout",
          "text": [
            "True\n"
          ]
        }
      ]
    },
    {
      "cell_type": "code",
      "source": [
        "my_string = \"The brown dog jumps over the lazy fox.\"\n",
        "my_slice = my_string[4:9]\n",
        "\n",
        "print(my_slice)\n"
      ],
      "metadata": {
        "id": "Qs915wpbWvL9",
        "colab": {
          "base_uri": "https://localhost:8080/"
        },
        "outputId": "3ef4b284-a1be-43e0-e8b3-7808e92884ea"
      },
      "execution_count": 12,
      "outputs": [
        {
          "output_type": "stream",
          "name": "stdout",
          "text": [
            "brown\n"
          ]
        }
      ]
    },
    {
      "cell_type": "code",
      "source": [
        "my_string = \"Falte\"\n",
        "\n",
        "for char in my_string:\n",
        "    print(char)\n"
      ],
      "metadata": {
        "id": "77L6-QI3X1YQ",
        "colab": {
          "base_uri": "https://localhost:8080/"
        },
        "outputId": "13410875-139a-4c90-9b91-2f9beba7f737"
      },
      "execution_count": 15,
      "outputs": [
        {
          "output_type": "stream",
          "name": "stdout",
          "text": [
            "F\n",
            "a\n",
            "l\n",
            "t\n",
            "e\n"
          ]
        }
      ]
    },
    {
      "cell_type": "code",
      "source": [
        "string1 = \"It's hAoine!\"\n",
        "string2 = \"It's haoine!\"\n",
        "print(string1 == string2)\n"
      ],
      "metadata": {
        "id": "hjJ5UB5IYHt7",
        "colab": {
          "base_uri": "https://localhost:8080/"
        },
        "outputId": "30bd7997-b703-487c-a13b-0ee860a62c24"
      },
      "execution_count": 16,
      "outputs": [
        {
          "output_type": "stream",
          "name": "stdout",
          "text": [
            "False\n"
          ]
        }
      ]
    },
    {
      "cell_type": "code",
      "source": [
        "NameF = input(\"Cad is ainm duit? \")  # Eng: What is your first name?\n",
        "NameMI = input(\"Cad é d’iniseal lárnach? \")  # Eng: What is your middle intial?\n",
        "NameL = input(\"Cad is sloinne duit?\")  # Eng: What is your last name?\n",
        "\n",
        "print (NameF + NameMI + NameL)\n",
        "\n",
        "print(NameF + ' '+ NameMI + ' '+ NameL)"
      ],
      "metadata": {
        "id": "JQ6AVu2iYalx",
        "colab": {
          "base_uri": "https://localhost:8080/"
        },
        "outputId": "818a73f1-c955-4e34-b978-576f81e3abce"
      },
      "execution_count": 20,
      "outputs": [
        {
          "output_type": "stream",
          "name": "stdout",
          "text": [
            "Cad is ainm duit? Corinne\n",
            "Cad é d’iniseal lárnach? L\n",
            "Cad is sloinne duit?Smith\n",
            "CorinneLSmith\n",
            "Corinne L Smith\n"
          ]
        }
      ]
    },
    {
      "cell_type": "code",
      "source": [
        "print(\"This program will check to see if two values are the same.\")\n",
        "string1 = input(\"10 \").lower()\n",
        "string2 = input(\"936\").lower()\n",
        "if string1 == string2:\n",
        "    print(\"They are the same!\")\n",
        "else:\n",
        "    print(\"They are not the same.\")\n"
      ],
      "metadata": {
        "id": "ofrzds55YrsP",
        "colab": {
          "base_uri": "https://localhost:8080/"
        },
        "outputId": "d65742e3-329f-44ab-b793-f8baa7fbe122"
      },
      "execution_count": 23,
      "outputs": [
        {
          "output_type": "stream",
          "name": "stdout",
          "text": [
            "This program will check to see if two values are the same.\n",
            "10 10\n",
            "936936\n",
            "They are not the same.\n"
          ]
        }
      ]
    },
    {
      "cell_type": "code",
      "source": [
        "print(string2)"
      ],
      "metadata": {
        "id": "k8tdDJ5KZFzU",
        "colab": {
          "base_uri": "https://localhost:8080/"
        },
        "outputId": "2db8b849-2166-489a-ea96-e011cc986449"
      },
      "execution_count": 22,
      "outputs": [
        {
          "output_type": "stream",
          "name": "stdout",
          "text": [
            "9\n"
          ]
        }
      ]
    },
    {
      "cell_type": "code",
      "source": [
        "age = int(input(\"Cuir isteach d’aois, le do thoil\")) # Eng: Enter your age: Irish: Cuir isteach d’aois, le do thoil\n",
        "\n",
        "if age < 18:\n",
        "    print(\"You are underage.\")\n",
        "elif age >= 18 and age < 65:\n",
        "    print(\"You are an adult.\")\n",
        "else:\n",
        "    print(\"You are a senior citizen.\")"
      ],
      "metadata": {
        "id": "folL2CP0ZPlG",
        "colab": {
          "base_uri": "https://localhost:8080/"
        },
        "outputId": "4a4cd535-3177-4a63-b206-57ad1c3a0af9"
      },
      "execution_count": 26,
      "outputs": [
        {
          "output_type": "stream",
          "name": "stdout",
          "text": [
            "Cuir isteach d’aois, le do thoil29\n",
            "You are an adult.\n"
          ]
        }
      ]
    }
  ]
}